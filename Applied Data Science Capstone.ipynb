{
    "cells": [
        {
            "cell_type": "markdown",
            "metadata": {
                "collapsed": true
            },
            "source": "### Applied Data Science Capstone Project"
        },
        {
            "cell_type": "code",
            "execution_count": 1,
            "metadata": {},
            "outputs": [
                {
                    "name": "stdout",
                    "output_type": "stream",
                    "text": "Hello Capstone Project Course!\n"
                }
            ],
            "source": "print(\"Hello Capstone Project Course!\")"
        },
        {
            "cell_type": "markdown",
            "metadata": {},
            "source": "**Week 1 - Introduction to Capstone Project**<br>\n    Introduction to Capstone Project<br>\n    Location Data Providers<br>\n    Signing-up for a Watson Studio Account<br>\n    Peer-review Assignment: Capstone Project Notebook<br>\n    \n**Week 2 - Foursquare API**<br>\n    Introduction to Foursquare<br>\n    Getting Foursquare API Credentials<br>\n    Using Foursquare API<br>\n    Lab: Foursquare API<br>\n    Quiz: Foursquare API<br>\n    \n**Week 3 - Neighborhood Segmentation and Clustering**<br>\n    Clustering<br>\n    Lab: Clustering<br>\n    Lab: Segmenting and Clustering Neighborhoods in New York City<br>\n    Peer-review Assignment: Segmenting and Clustering Neighborhoods in Toronto<br>\n    \n**Week 4 - Capstone Project**<br>\n\n**Week 5 - Capstone Project (Cont'd)**<br>"
        },
        {
            "cell_type": "code",
            "execution_count": 2,
            "metadata": {},
            "outputs": [],
            "source": "import pandas as pd\nimport numpy as np"
        },
        {
            "cell_type": "code",
            "execution_count": null,
            "metadata": {},
            "outputs": [],
            "source": ""
        }
    ],
    "metadata": {
        "kernelspec": {
            "display_name": "Python 3.6",
            "language": "python",
            "name": "python3"
        },
        "language_info": {
            "codemirror_mode": {
                "name": "ipython",
                "version": 3
            },
            "file_extension": ".py",
            "mimetype": "text/x-python",
            "name": "python",
            "nbconvert_exporter": "python",
            "pygments_lexer": "ipython3",
            "version": "3.6.9"
        }
    },
    "nbformat": 4,
    "nbformat_minor": 1
}